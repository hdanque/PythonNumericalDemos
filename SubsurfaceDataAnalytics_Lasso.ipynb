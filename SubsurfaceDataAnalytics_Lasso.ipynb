{
 "cells": [
  {
   "cell_type": "markdown",
   "metadata": {},
   "source": [
    "<p align=\"center\">\n",
    "    <img src=\"https://github.com/GeostatsGuy/GeostatsPy/blob/master/TCG_color_logo.png?raw=true\" width=\"220\" height=\"240\" />\n",
    "\n",
    "</p>\n",
    "\n",
    "## Subsurface Data Analytics \n",
    "\n",
    "### The Lasso for Subsurface Data Analytics in Python \n",
    "\n",
    "\n",
    "#### Michael Pyrcz, Associate Professor, University of Texas at Austin \n",
    "\n",
    "##### [Twitter](https://twitter.com/geostatsguy) | [GitHub](https://github.com/GeostatsGuy) | [Website](http://michaelpyrcz.com) | [GoogleScholar](https://scholar.google.com/citations?user=QVZ20eQAAAAJ&hl=en&oi=ao) | [Book](https://www.amazon.com/Geostatistical-Reservoir-Modeling-Michael-Pyrcz/dp/0199731446) | [YouTube](https://www.youtube.com/channel/UCLqEr-xV-ceHdXXXrTId5ig)  | [LinkedIn](https://www.linkedin.com/in/michael-pyrcz-61a648a1)\n"
   ]
  },
  {
   "cell_type": "markdown",
   "metadata": {},
   "source": [
    "\n",
    "### PGE 383 Exercise: The Lasso for Subsurface Modeling in Python \n",
    "\n",
    "Here's a simple workflow, demonstration of the lasso for regression for subsurface modeling workflows. This should help you get started with building subsurface models with data analytics and machine learning. Here's some basic details about the lasso. \n",
    "\n",
    "The lasso is an extension of linear regresion, and is closely related to ridge regression so let's review some basic details about linear regression first and then related the lasso to ridge regression.\n",
    "\n",
    "Here's complete workflows and more details on these:\n",
    "\n",
    "[Linear Regression](https://github.com/GeostatsGuy/PythonNumericalDemos/blob/master/SubsurfaceDataAnalytics_LinearRegression.ipynb)\n",
    "\n",
    "[Ridge Regression](https://github.com/GeostatsGuy/PythonNumericalDemos/blob/master/SubsurfaceDataAnalytics_RidgeRegression.ipynb)\n",
    "\n",
    "\n",
    "#### Linear Regression\n",
    "\n",
    "Linear regression for prediction.  Here are some key aspects of linear regression:\n",
    "\n",
    "**Parametric Model**\n",
    "\n",
    "* the fit model is a simple weighted linear additive model based on all the available features, $x_1,\\ldots,x_m$.\n",
    "\n",
    "* the parametric model takes the form of: \n",
    "\n",
    "\\begin{equation}\n",
    "y = \\sum_{\\alpha = 1}^m b_{\\alpha} x_{\\alpha} + b_0\n",
    "\\end{equation}\n",
    "\n",
    "**Least Squares**\n",
    "\n",
    "* least squares optimization is applied to select the model parameters, $b_1,\\ldots,b_m,b_0$ \n",
    "\n",
    "* we minize the error, residual sum of squares (RSS) over the training data: \n",
    "\n",
    "\\begin{equation}\n",
    "RSS = \\sum_{i=1}^n (y_i - \\left(\\sum_{\\alpha = 1}^m b_{\\alpha} x_{\\alpha} + b_0)\\right)^2\n",
    "\\end{equation}\n",
    "\n",
    "* this could be simplified as the sum of square error over the training data, \n",
    "\n",
    "\\begin{equation}\n",
    "\\sum_{i=1}^n (\\Delta y_i)^2\n",
    "\\end{equation}\n",
    "\n",
    "**Assumptions**\n",
    "\n",
    "* **Error-free** - predictor variables are error free, not random variables \n",
    "* **Linearity** - response is linear combination of feature(s)\n",
    "* **Constant Variance** - error in response is constant over predictor(s) value\n",
    "* **Independence of Error** - error in response are uncorrelated with each other\n",
    "* **No multicollinearity** - none of the features are redundant with other features \n",
    "\n",
    "#### Other Resources\n",
    "\n",
    "In $Python$, the $SciPy$ package, specifically the $Stats$ functions (https://docs.scipy.org/doc/scipy/reference/stats.html) provide excellent tools for efficient use of statistics.  \n",
    "I have previously provided linear regression demonstration in R:\n",
    "\n",
    "1. [R](https://github.com/GeostatsGuy/geostatsr/blob/master/linear_regression_demo_v2.R)\n",
    "2. [R Markdown](https://github.com/GeostatsGuy/geostatsr/blob/master/linear_regression_demo_v2.Rmd) \n",
    "3. [knit as an HTML document](https://github.com/GeostatsGuy/geostatsr/blob/master/linear_regression_demo_v2.html) \n",
    "\n",
    "#### The Lasso\n",
    "\n",
    "With the lasso we add a hyperparameter, $\\lambda$, to our minimization, with a shrinkage penalty term.\n",
    "\n",
    "\\begin{equation}\n",
    "\\sum_{i=1}^n \\left(y_i - \\left(\\sum_{\\alpha = 1}^m b_{\\alpha} x_{\\alpha} + b_0 \\right) \\right)^2 + \\lambda \\sum_{j=1}^m |b_{\\alpha}|\n",
    "\\end{equation}\n",
    "\n",
    "As a result the lasso has 2 criteria:\n",
    "\n",
    "1. set the model parameters to minimize the error with training data\n",
    "\n",
    "2. shrink the estimates of the slope parameters towards zero. Note: the intercept is not affected by the lambda, $\\lambda$, hyperparameter.\n",
    "\n",
    "Note the only difference between the lasso and ridge regression is:\n",
    "\n",
    "* for the lasso the shrinkage term is posed as an $\\ell_1$ penalty ($\\lambda \\sum_{\\alpha=1}^m |b_{\\alpha}|$) \n",
    "\n",
    "* for ridge regression the shrinkage term is posed as an $\\ell_2$ penalty ($\\lambda \\sum_{\\alpha=1}^m \\left(b_{\\alpha}\\right)^2$).\n",
    "\n",
    "While both ridge regression and the lasso shrink the model parameters ($b_{\\alpha}, \\alpha = 1,\\ldots,m$) towards zero:\n",
    "\n",
    "* the lasso parameters reach zero at different rates for each predictor feature as the lambda, $\\lambda$, hyperparameter increases. \n",
    "\n",
    "* as a result the lasso provides a method for feature ranking and selection!\n",
    "\n",
    "The lambda, $\\lambda$, hyperparameter controls the degree of fit of the model and may be related to the model variance and bias trade-off.\n",
    "\n",
    "* for $\\lambda \\rightarrow 0$ the prediction model approaches linear regression, there is lower model bias, but the model variance is higher\n",
    "\n",
    "* as $\\lambda$ increases the model variance decreases and the model bias increases\n",
    "\n",
    "* for $\\lambda \\rightarrow \\infty$ the coefficients all become 0.0 and the model is the global mean\n",
    "\n",
    "#### Workflow Goals\n",
    "\n",
    "Learn the basics of the lasso in Python to for analysis, modeling and prediction of porosity from density. This includes:\n",
    "\n",
    "* Basic Python workflows and data preparation\n",
    "\n",
    "* Training / fitting a the lasso model and comparison to ridge regression\n",
    "\n",
    "* Checking the model and learning about the impact of hyperparameters\n",
    "\n",
    "#### Objective \n",
    "\n",
    "In the PGE 383: Stochastic Subsurface Modeling class I want to provide hands-on experience with building subsurface modeling workflows. Python provides an excellent vehicle to accomplish this. I have coded a package called GeostatsPy with GSLIB: Geostatistical Library (Deutsch and Journel, 1998) functionality that provides basic building blocks for building subsurface modeling workflows. \n",
    "\n",
    "The objective is to remove the hurdles of subsurface modeling workflow construction by providing building blocks and sufficient examples. This is not a coding class per se, but we need the ability to 'script' workflows working with numerical methods.    \n",
    "\n",
    "#### Getting Started\n",
    "\n",
    "Here's the steps to get setup in Python with the GeostatsPy package:\n",
    "\n",
    "1. Install Anaconda 3 on your machine (https://www.anaconda.com/download/). \n",
    "2. From Anaconda Navigator (within Anaconda3 group), go to the environment tab, click on base (root) green arrow and open a terminal. \n",
    "3. In the terminal type: pip install geostatspy. \n",
    "4. Open Jupyter and in the top block get started by copy and pasting the code block below from this Jupyter Notebook to start using the geostatspy functionality. \n",
    "\n",
    "There are examples below with these functions. You can go here to see a list of the available functions, https://git.io/fh4eX, other example workflows and source code. \n",
    "\n",
    "#### Import Required Packages\n",
    "\n",
    "Let's import the GeostatsPy package."
   ]
  },
  {
   "cell_type": "code",
   "execution_count": 1,
   "metadata": {},
   "outputs": [],
   "source": [
    "import os                                                   # to set current working directory \n",
    "import numpy as np                                          # arrays and matrix math\n",
    "import scipy.stats as st                                    # statistical methods\n",
    "import pandas as pd                                         # DataFrames\n",
    "import matplotlib.pyplot as plt                             # for plotting\n",
    "from sklearn.metrics import mean_squared_error, r2_score    # specific measures to check our models\n",
    "from sklearn.linear_model import Ridge                      # ridge regression implemented in scikit learn\n",
    "from sklearn.linear_model import Lasso                      # the lasso implemented in scikit learn\n",
    "from sklearn.model_selection import cross_val_score         # multi-processor K-fold crossvalidation\n",
    "from sklearn.model_selection import train_test_split        # train and test split\n",
    "from sklearn.preprocessing import StandardScaler            # standardize the features\n",
    "from sklearn import metrics                                 # measures to check our models\n",
    "from sklearn.linear_model import LinearRegression           # linear regression implemented in scikit learn"
   ]
  },
  {
   "cell_type": "markdown",
   "metadata": {},
   "source": [
    "If you get a package import error, you may have to first install some of these packages. This can usually be accomplished by opening up a command window on Windows and then typing 'python -m pip install [package-name]'. More assistance is available with the respective package docs.  "
   ]
  },
  {
   "cell_type": "markdown",
   "metadata": {},
   "source": [
    "#### Set the working directory\n",
    "\n",
    "I always like to do this so I don't lose files and to simplify subsequent read and writes (avoid including the full address each time).  Also, in this case make sure to place the required (see below) data file in this working directory.  "
   ]
  },
  {
   "cell_type": "code",
   "execution_count": 4,
   "metadata": {},
   "outputs": [],
   "source": [
    "os.chdir(\"C:\\PGE383\")                                       # set the working directory"
   ]
  },
  {
   "cell_type": "markdown",
   "metadata": {},
   "source": [
    "#### Loading Data\n",
    "\n",
    "Let's load the provided dataset. 'Density_Por_data.csv' is available at https://github.com/GeostatsGuy/GeoDataSets. It is a comma delimited file with 20 density ($\\frac{g}{cm^3}$) and porosity (as a fraction) measures from the subsurface. We load the data file with the pandas 'read_csv' function into a data frame we called 'df' and then separate it into train and test datasets.  The smaples are in random order so we just split the dataset at the 80th sample.  We preview each with the head function from Pandas DataFrames."
   ]
  },
  {
   "cell_type": "code",
   "execution_count": 6,
   "metadata": {
    "scrolled": false
   },
   "outputs": [
    {
     "data": {
      "text/html": [
       "<div>\n",
       "<style scoped>\n",
       "    .dataframe tbody tr th:only-of-type {\n",
       "        vertical-align: middle;\n",
       "    }\n",
       "\n",
       "    .dataframe tbody tr th {\n",
       "        vertical-align: top;\n",
       "    }\n",
       "\n",
       "    .dataframe thead th {\n",
       "        text-align: right;\n",
       "    }\n",
       "</style>\n",
       "<table border=\"1\" class=\"dataframe\">\n",
       "  <thead>\n",
       "    <tr style=\"text-align: right;\">\n",
       "      <th></th>\n",
       "      <th>Density</th>\n",
       "      <th>Porosity</th>\n",
       "    </tr>\n",
       "  </thead>\n",
       "  <tbody>\n",
       "    <tr>\n",
       "      <th>0</th>\n",
       "      <td>1.281391</td>\n",
       "      <td>16.610982</td>\n",
       "    </tr>\n",
       "    <tr>\n",
       "      <th>1</th>\n",
       "      <td>1.404932</td>\n",
       "      <td>13.668073</td>\n",
       "    </tr>\n",
       "    <tr>\n",
       "      <th>2</th>\n",
       "      <td>2.346926</td>\n",
       "      <td>9.590092</td>\n",
       "    </tr>\n",
       "    <tr>\n",
       "      <th>3</th>\n",
       "      <td>1.348847</td>\n",
       "      <td>15.877907</td>\n",
       "    </tr>\n",
       "    <tr>\n",
       "      <th>4</th>\n",
       "      <td>2.331653</td>\n",
       "      <td>4.968240</td>\n",
       "    </tr>\n",
       "  </tbody>\n",
       "</table>\n",
       "</div>"
      ],
      "text/plain": [
       "    Density   Porosity\n",
       "0  1.281391  16.610982\n",
       "1  1.404932  13.668073\n",
       "2  2.346926   9.590092\n",
       "3  1.348847  15.877907\n",
       "4  2.331653   4.968240"
      ]
     },
     "execution_count": 6,
     "metadata": {},
     "output_type": "execute_result"
    }
   ],
   "source": [
    "df = pd.read_csv(\"Density_Por_data.csv\")                    # read a .csv file in as a DataFrame\n",
    "df_mv = pd.read_csv(\"unconv_MV.csv\")                        # load a multivariate dataset that we will use later\n",
    "df_train = df.iloc[0:80,:]                                  # extract a training set, note samples are random ordered\n",
    "df_train.head()                                             # preview the DataFrame"
   ]
  },
  {
   "cell_type": "code",
   "execution_count": 7,
   "metadata": {},
   "outputs": [
    {
     "data": {
      "text/html": [
       "<div>\n",
       "<style scoped>\n",
       "    .dataframe tbody tr th:only-of-type {\n",
       "        vertical-align: middle;\n",
       "    }\n",
       "\n",
       "    .dataframe tbody tr th {\n",
       "        vertical-align: top;\n",
       "    }\n",
       "\n",
       "    .dataframe thead th {\n",
       "        text-align: right;\n",
       "    }\n",
       "</style>\n",
       "<table border=\"1\" class=\"dataframe\">\n",
       "  <thead>\n",
       "    <tr style=\"text-align: right;\">\n",
       "      <th></th>\n",
       "      <th>Density</th>\n",
       "      <th>Porosity</th>\n",
       "    </tr>\n",
       "  </thead>\n",
       "  <tbody>\n",
       "    <tr>\n",
       "      <th>80</th>\n",
       "      <td>1.750352</td>\n",
       "      <td>11.325941</td>\n",
       "    </tr>\n",
       "    <tr>\n",
       "      <th>81</th>\n",
       "      <td>1.666285</td>\n",
       "      <td>15.609445</td>\n",
       "    </tr>\n",
       "    <tr>\n",
       "      <th>82</th>\n",
       "      <td>1.466517</td>\n",
       "      <td>17.066529</td>\n",
       "    </tr>\n",
       "    <tr>\n",
       "      <th>83</th>\n",
       "      <td>1.650921</td>\n",
       "      <td>13.876841</td>\n",
       "    </tr>\n",
       "    <tr>\n",
       "      <th>84</th>\n",
       "      <td>0.996736</td>\n",
       "      <td>20.964941</td>\n",
       "    </tr>\n",
       "  </tbody>\n",
       "</table>\n",
       "</div>"
      ],
      "text/plain": [
       "     Density   Porosity\n",
       "80  1.750352  11.325941\n",
       "81  1.666285  15.609445\n",
       "82  1.466517  17.066529\n",
       "83  1.650921  13.876841\n",
       "84  0.996736  20.964941"
      ]
     },
     "execution_count": 7,
     "metadata": {},
     "output_type": "execute_result"
    }
   ],
   "source": [
    "df_test = df.iloc[80:]                                      # extract a testing set, note samples are random ordered\n",
    "df_test.head()                                              # preview the DataFrame"
   ]
  },
  {
   "cell_type": "markdown",
   "metadata": {},
   "source": [
    "It is useful to review the summary statistics of our loaded DataFrame.  That can be accomplished with the 'describe' DataFrame member function.  We transpose to switch the axes for ease of visualization.  We will summarize over the training and testing subsets separately."
   ]
  },
  {
   "cell_type": "code",
   "execution_count": 8,
   "metadata": {},
   "outputs": [
    {
     "data": {
      "text/html": [
       "<div>\n",
       "<style scoped>\n",
       "    .dataframe tbody tr th:only-of-type {\n",
       "        vertical-align: middle;\n",
       "    }\n",
       "\n",
       "    .dataframe tbody tr th {\n",
       "        vertical-align: top;\n",
       "    }\n",
       "\n",
       "    .dataframe thead th {\n",
       "        text-align: right;\n",
       "    }\n",
       "</style>\n",
       "<table border=\"1\" class=\"dataframe\">\n",
       "  <thead>\n",
       "    <tr style=\"text-align: right;\">\n",
       "      <th></th>\n",
       "      <th>count</th>\n",
       "      <th>mean</th>\n",
       "      <th>std</th>\n",
       "      <th>min</th>\n",
       "      <th>25%</th>\n",
       "      <th>50%</th>\n",
       "      <th>75%</th>\n",
       "      <th>max</th>\n",
       "    </tr>\n",
       "  </thead>\n",
       "  <tbody>\n",
       "    <tr>\n",
       "      <th>Density</th>\n",
       "      <td>80.0</td>\n",
       "      <td>1.759945</td>\n",
       "      <td>0.295260</td>\n",
       "      <td>1.067960</td>\n",
       "      <td>1.552707</td>\n",
       "      <td>1.767908</td>\n",
       "      <td>1.953262</td>\n",
       "      <td>2.410560</td>\n",
       "    </tr>\n",
       "    <tr>\n",
       "      <th>Porosity</th>\n",
       "      <td>80.0</td>\n",
       "      <td>12.187127</td>\n",
       "      <td>3.125755</td>\n",
       "      <td>4.966421</td>\n",
       "      <td>10.011526</td>\n",
       "      <td>12.170687</td>\n",
       "      <td>14.063670</td>\n",
       "      <td>19.600717</td>\n",
       "    </tr>\n",
       "  </tbody>\n",
       "</table>\n",
       "</div>"
      ],
      "text/plain": [
       "          count       mean       std       min        25%        50%  \\\n",
       "Density    80.0   1.759945  0.295260  1.067960   1.552707   1.767908   \n",
       "Porosity   80.0  12.187127  3.125755  4.966421  10.011526  12.170687   \n",
       "\n",
       "                75%        max  \n",
       "Density    1.953262   2.410560  \n",
       "Porosity  14.063670  19.600717  "
      ]
     },
     "execution_count": 8,
     "metadata": {},
     "output_type": "execute_result"
    }
   ],
   "source": [
    "df_train.describe().transpose()   "
   ]
  },
  {
   "cell_type": "code",
   "execution_count": 9,
   "metadata": {},
   "outputs": [
    {
     "data": {
      "text/html": [
       "<div>\n",
       "<style scoped>\n",
       "    .dataframe tbody tr th:only-of-type {\n",
       "        vertical-align: middle;\n",
       "    }\n",
       "\n",
       "    .dataframe tbody tr th {\n",
       "        vertical-align: top;\n",
       "    }\n",
       "\n",
       "    .dataframe thead th {\n",
       "        text-align: right;\n",
       "    }\n",
       "</style>\n",
       "<table border=\"1\" class=\"dataframe\">\n",
       "  <thead>\n",
       "    <tr style=\"text-align: right;\">\n",
       "      <th></th>\n",
       "      <th>count</th>\n",
       "      <th>mean</th>\n",
       "      <th>std</th>\n",
       "      <th>min</th>\n",
       "      <th>25%</th>\n",
       "      <th>50%</th>\n",
       "      <th>75%</th>\n",
       "      <th>max</th>\n",
       "    </tr>\n",
       "  </thead>\n",
       "  <tbody>\n",
       "    <tr>\n",
       "      <th>Density</th>\n",
       "      <td>25.0</td>\n",
       "      <td>1.667429</td>\n",
       "      <td>0.257608</td>\n",
       "      <td>0.996736</td>\n",
       "      <td>1.568988</td>\n",
       "      <td>1.718085</td>\n",
       "      <td>1.791432</td>\n",
       "      <td>2.339324</td>\n",
       "    </tr>\n",
       "    <tr>\n",
       "      <th>Porosity</th>\n",
       "      <td>25.0</td>\n",
       "      <td>13.632564</td>\n",
       "      <td>2.948887</td>\n",
       "      <td>9.489298</td>\n",
       "      <td>11.325941</td>\n",
       "      <td>13.767060</td>\n",
       "      <td>15.051759</td>\n",
       "      <td>20.964941</td>\n",
       "    </tr>\n",
       "  </tbody>\n",
       "</table>\n",
       "</div>"
      ],
      "text/plain": [
       "          count       mean       std       min        25%        50%  \\\n",
       "Density    25.0   1.667429  0.257608  0.996736   1.568988   1.718085   \n",
       "Porosity   25.0  13.632564  2.948887  9.489298  11.325941  13.767060   \n",
       "\n",
       "                75%        max  \n",
       "Density    1.791432   2.339324  \n",
       "Porosity  15.051759  20.964941  "
      ]
     },
     "execution_count": 9,
     "metadata": {},
     "output_type": "execute_result"
    }
   ],
   "source": [
    "df_test.describe().transpose()   "
   ]
  },
  {
   "cell_type": "markdown",
   "metadata": {},
   "source": [
    "Here we extract the ndarrays with porsity and density, training and testing datasets separate arrays for convenience."
   ]
  },
  {
   "cell_type": "code",
   "execution_count": 10,
   "metadata": {},
   "outputs": [],
   "source": [
    "por_train = df_train['Porosity'].values                     # make a shallow copy of the features for convenvience                   \n",
    "den_train = df_train['Density'].values\n",
    "por_test = df_test['Porosity'].values\n",
    "den_test = df_test['Density'].values\n",
    "n_train = len(df_train); n_test = len(df_test)              # get the number of data in training and testing"
   ]
  },
  {
   "cell_type": "markdown",
   "metadata": {},
   "source": [
    "#### Linear Regression Model\n",
    "\n",
    "Let's first calculate the linear regression model. We use scikit learn and then extend the same workflow to ridge regression."
   ]
  },
  {
   "cell_type": "code",
   "execution_count": 11,
   "metadata": {},
   "outputs": [
    {
     "name": "stdout",
     "output_type": "stream",
     "text": [
      "Coefficients:  -8.961, Intercept:  27.958\n"
     ]
    },
    {
     "data": {
      "image/png": "[encoded data removed]",
      "text/plain": [
       "<Figure size 432x288 with 1 Axes>"
      ]
     },
     "metadata": {},
     "output_type": "display_data"
    }
   ],
   "source": [
    "# Step 1. Instantiate the Model \n",
    "linear_reg = LinearRegression()                             # instantiate the linear regression model\n",
    "\n",
    "# Step 2: Fit the Data on Training Data\n",
    "linear_reg.fit(df_train[\"Density\"].values.reshape(n_train,1), df_train[\"Porosity\"]) # fit model\n",
    "density_model = np.linspace(1.2,2.4,10)\n",
    "\n",
    "# Print the model parameters\n",
    "porosity_model = linear_reg.predict(density_model.reshape(10,1)) # predict with the fit model\n",
    "print('Coefficients: ', str(round(linear_reg.coef_[0],3)) + ', Intercept: ', str(round(linear_reg.intercept_,3))) \n",
    "\n",
    "# Plot model fit\n",
    "plt.subplot(111)\n",
    "plt.scatter(df_train[\"Density\"].values, df_train[\"Porosity\"],  color='black', s = 20, alpha = 0.3)\n",
    "plt.plot(density_model,porosity_model, color='red', linewidth=1)\n",
    "plt.title('Linear Regression Porosity from Density with Training Data'); plt.xlabel('Density (g/cm^3)'); plt.ylabel('Porosity (%)')\n",
    "plt.xlim(1.,2.6)#; plt.ylim(0,1500000)\n",
    "plt.subplots_adjust(left=0.0, bottom=0.0, right=2.0, top=1.0, wspace=0.2, hspace=0.2)\n",
    "plt.show()"
   ]
  },
  {
   "cell_type": "markdown",
   "metadata": {},
   "source": [
    "Let's run some quick model checks.  Much more could be done, but I limit this for breviety here. "
   ]
  },
  {
   "cell_type": "code",
   "execution_count": 12,
   "metadata": {},
   "outputs": [
    {
     "name": "stdout",
     "output_type": "stream",
     "text": [
      "Variance explained: 0.58\n",
      "Residual: mean = -0.62, standard deviation = 3.13\n"
     ]
    },
    {
     "data": {
      "image/png": "[encoded data removed]",
      "text/plain": [
       "<Figure size 432x288 with 2 Axes>"
      ]
     },
     "metadata": {},
     "output_type": "display_data"
    }
   ],
   "source": [
    "# Step 3: - Make predictions using the testing dataset\n",
    "y_pred = linear_reg.predict(df_test['Density'].values.reshape(n_test,1))\n",
    "\n",
    "# Report the goodness of fit\n",
    "print('Variance explained: %.2f' % r2_score(df_test['Porosity'].values, y_pred))\n",
    "\n",
    "# Plot testing diagnostics \n",
    "plt.subplot(121)\n",
    "plt.scatter(df_test['Density'].values, df_test['Porosity'].values,  color='black', s = 20, alpha = 0.3)\n",
    "plt.scatter(df_test['Density'], y_pred, color='blue', s = 20, alpha = 0.3)\n",
    "plt.title('Linear Regression Model Testing - Production from Porosity'); plt.xlabel('Density (g/cm^3)'); plt.ylabel('Porosity (%)')\n",
    "plt.xlim(1.0,2.6); plt.ylim(5,24)\n",
    "\n",
    "y_res = y_pred - df_test['Porosity'].values\n",
    "\n",
    "print('Residual: mean = ' + str(round(np.average(y_res),2)) + ', standard deviation = ' + str(round(np.var(y_res),2)))\n",
    "\n",
    "plt.subplot(122)\n",
    "plt.hist(y_res, alpha = 0.2, color = 'red', edgecolor = 'black', bins=20)\n",
    "plt.title('Linear Regression Model Prediction Error - Porosity form Density'); plt.xlabel('Porosity Estimation Error (%) (Estimate - Truth)'); plt.ylabel('Frequency')\n",
    "plt.xlim(-4,4)#; plt.ylim(0,1500000)\n",
    "\n",
    "plt.subplots_adjust(left=0.0, bottom=0.0, right=2.2, top=1.2, wspace=0.3, hspace=0.2)\n",
    "plt.show()"
   ]
  },
  {
   "cell_type": "markdown",
   "metadata": {},
   "source": [
    "#### Ridge Regression\n",
    "\n",
    "Let's replace the scikit learn linear regression method with the scikit learn ridge regression method.  Note, we must now set the lambda hyperparameter.\n",
    "\n",
    "* the hyperparameter is set with the instantiation of the model"
   ]
  },
  {
   "cell_type": "code",
   "execution_count": 13,
   "metadata": {},
   "outputs": [
    {
     "name": "stdout",
     "output_type": "stream",
     "text": [
      "Coefficients:  -8.961, Intercept:  27.958\n"
     ]
    },
    {
     "data": {
      "image/png": "[encoded data removed]",
      "text/plain": [
       "<Figure size 432x288 with 1 Axes>"
      ]
     },
     "metadata": {},
     "output_type": "display_data"
    }
   ],
   "source": [
    "lam = 1.0\n",
    "\n",
    "# Step 1. Instantiate the Model \n",
    "ridge_reg = Ridge(alpha=lam)\n",
    "\n",
    "# Step 2: Fit the Data on Training Data\n",
    "ridge_reg.fit(df_train[\"Density\"].values.reshape(n_train,1), df_train[\"Porosity\"]) # fit model\n",
    "density_model = np.linspace(1.2,2.4,10)\n",
    "\n",
    "# Print the model parameters\n",
    "porosity_ridge_model = ridge_reg.predict(density_model.reshape(10,1)) # predict with the fit model\n",
    "print('Coefficients: ', str(round(linear_reg.coef_[0],3)) + ', Intercept: ', str(round(linear_reg.intercept_,3))) \n",
    "\n",
    "# Plot model fit\n",
    "plt.subplot(111)\n",
    "plt.scatter(df_train[\"Density\"].values, df_train[\"Porosity\"],  color='black', s = 20, alpha = 0.3)\n",
    "plt.plot(density_model,porosity_ridge_model, color='red', linewidth=1)\n",
    "plt.title('Ridge Regression Porosity from Density with Training Data'); plt.xlabel('Density (g/cm^3)'); plt.ylabel('Porosity (%)')\n",
    "plt.xlim(1.,2.6); plt.ylim(8,17)\n",
    "plt.subplots_adjust(left=0.0, bottom=0.0, right=2.0, top=1.0, wspace=0.2, hspace=0.2)\n",
    "plt.show()"
   ]
  },
  {
   "cell_type": "markdown",
   "metadata": {},
   "source": [
    "Let's repeat the simple model checks that we applied with our linear regression model."
   ]
  },
  {
   "cell_type": "code",
   "execution_count": 14,
   "metadata": {},
   "outputs": [
    {
     "name": "stdout",
     "output_type": "stream",
     "text": [
      "Variance explained: 0.55\n",
      "Residual: mean = -0.72, standard deviation = 3.22\n"
     ]
    },
    {
     "data": {
      "image/png": "[encoded data removed]",
      "text/plain": [
       "<Figure size 432x288 with 2 Axes>"
      ]
     },
     "metadata": {},
     "output_type": "display_data"
    }
   ],
   "source": [
    "# Step 3: - Make predictions using the testing dataset\n",
    "y_pred = ridge_reg.predict(df_test['Density'].values.reshape(n_test,1))\n",
    "\n",
    "# Report the goodness of fit\n",
    "print('Variance explained: %.2f' % r2_score(df_test['Porosity'].values, y_pred))\n",
    "\n",
    "# Plot testing diagnostics \n",
    "plt.subplot(121)\n",
    "plt.scatter(df_test['Density'].values, df_test['Porosity'].values,  color='black', s = 20, alpha = 0.3)\n",
    "plt.scatter(df_test['Density'], y_pred, color='blue', s = 20, alpha = 0.3)\n",
    "plt.title('Ridge Regression Model Testing - Production from Porosity'); plt.xlabel('Density (g/cm^3)'); plt.ylabel('Porosity (%)')\n",
    "plt.xlim(1.0,2.6); plt.ylim(5,24)\n",
    "\n",
    "y_res = y_pred - df_test['Porosity'].values\n",
    "\n",
    "print('Residual: mean = ' + str(round(np.average(y_res),2)) + ', standard deviation = ' + str(round(np.var(y_res),2)))\n",
    "\n",
    "plt.subplot(122)\n",
    "plt.hist(y_res, alpha = 0.2, color = 'red', edgecolor = 'black', bins=20)\n",
    "plt.title('Ridge Regression Model Prediction Error - Porosity form Density'); plt.xlabel('Porosity Estimation Error (%) (Estimate - Truth)'); plt.ylabel('Frequency')\n",
    "plt.xlim(-4,4)#; plt.ylim(0,1500000)\n",
    "\n",
    "plt.subplots_adjust(left=0.0, bottom=0.0, right=2.2, top=1.2, wspace=0.3, hspace=0.2)\n",
    "plt.show()"
   ]
  },
  {
   "cell_type": "markdown",
   "metadata": {},
   "source": [
    "Interesting, we explained less variance and have a larger residual standard deviation (more error).\n",
    "\n",
    "* we reduced both testing variance explained and accuracy in this case! \n",
    "\n",
    "#### the Lasso\n",
    "\n",
    "Let's replace the scikit learn linear regression and ridge regression methods with the scikit learn the lasso method.  Note, we must now set the lambda hyperparameter.\n",
    "\n",
    "* the lambda hyperparameter, $\\lambda$, is set with the instantiation of the model"
   ]
  },
  {
   "cell_type": "code",
   "execution_count": 15,
   "metadata": {},
   "outputs": [
    {
     "name": "stdout",
     "output_type": "stream",
     "text": [
      "Coefficients:  -8.961, Intercept:  27.958\n"
     ]
    },
    {
     "data": {
      "image/png": "[encoded data removed]",
      "text/plain": [
       "<Figure size 432x288 with 1 Axes>"
      ]
     },
     "metadata": {},
     "output_type": "display_data"
    }
   ],
   "source": [
    "lam = 1.0\n",
    "\n",
    "# Step 1. Instantiate the Model \n",
    "lasso_reg = Lasso(alpha=lam)\n",
    "\n",
    "# Step 2: Fit the Data on Training Data\n",
    "lasso_reg.fit(df_train[\"Density\"].values.reshape(n_train,1), df_train[\"Porosity\"]) # fit model\n",
    "density_model = np.linspace(1.2,2.4,10)\n",
    "\n",
    "# Print the model parameters\n",
    "porosity_lasso_model = lasso_reg.predict(density_model.reshape(10,1)) # predict with the fit model\n",
    "print('Coefficients: ', str(round(linear_reg.coef_[0],3)) + ', Intercept: ', str(round(linear_reg.intercept_,3))) \n",
    "\n",
    "# Plot model fit\n",
    "plt.subplot(111)\n",
    "plt.scatter(df_train[\"Density\"].values, df_train[\"Porosity\"],  color='black', s = 20, alpha = 0.3)\n",
    "plt.plot(density_model,porosity_lasso_model, color='red', linewidth=1)\n",
    "plt.title('the Lasso Porosity from Density with Training Data'); plt.xlabel('Density (g/cm^3)'); plt.ylabel('Porosity (%)')\n",
    "plt.xlim(1.,2.6); plt.ylim(8,17)\n",
    "plt.subplots_adjust(left=0.0, bottom=0.0, right=2.0, top=1.0, wspace=0.2, hspace=0.2)\n",
    "plt.show()"
   ]
  },
  {
   "cell_type": "markdown",
   "metadata": {},
   "source": [
    "Let's repeat the simple model checks that we applied with our linear regression model."
   ]
  },
  {
   "cell_type": "code",
   "execution_count": 16,
   "metadata": {},
   "outputs": [
    {
     "name": "stdout",
     "output_type": "stream",
     "text": [
      "Variance explained: -0.25\n",
      "Residual: mean = -1.45, standard deviation = 8.35\n"
     ]
    },
    {
     "data": {
      "image/png": "[encoded data removed]",
      "text/plain": [
       "<Figure size 432x288 with 2 Axes>"
      ]
     },
     "metadata": {},
     "output_type": "display_data"
    }
   ],
   "source": [
    "# Step 3: - Make predictions using the testing dataset\n",
    "y_pred = lasso_reg.predict(df_test['Density'].values.reshape(n_test,1))\n",
    "\n",
    "# Report the goodness of fit\n",
    "print('Variance explained: %.2f' % r2_score(df_test['Porosity'].values, y_pred))\n",
    "\n",
    "# Plot testing diagnostics \n",
    "plt.subplot(121)\n",
    "plt.scatter(df_test['Density'].values, df_test['Porosity'].values,  color='black', s = 20, alpha = 0.3)\n",
    "plt.scatter(df_test['Density'], y_pred, color='blue', s = 20, alpha = 0.3)\n",
    "plt.title('Linear Regression Model Testing - Production from Porosity'); plt.xlabel('Density (g/cm^3)'); plt.ylabel('Porosity (%)')\n",
    "plt.xlim(1.0,2.6); plt.ylim(5,24)\n",
    "\n",
    "y_res = y_pred - df_test['Porosity'].values\n",
    "\n",
    "print('Residual: mean = ' + str(round(np.average(y_res),2)) + ', standard deviation = ' + str(round(np.var(y_res),2)))\n",
    "\n",
    "plt.subplot(122)\n",
    "plt.hist(y_res, alpha = 0.2, color = 'red', edgecolor = 'black', bins=20)\n",
    "plt.title('the Lasso Model Prediction Error - Porosity form Density'); plt.xlabel('Porosity Estimation Error (%) (Estimate - Truth)'); plt.ylabel('Frequency')\n",
    "plt.xlim(-4,4)#; plt.ylim(0,1500000)\n",
    "\n",
    "plt.subplots_adjust(left=0.0, bottom=0.0, right=2.2, top=1.2, wspace=0.3, hspace=0.2)\n",
    "plt.show()"
   ]
  },
  {
   "cell_type": "markdown",
   "metadata": {},
   "source": [
    "What happenned? With our set lambda level\n",
    "\n",
    "```python\n",
    "lam = 1.0\n",
    "```\n",
    "\n",
    "the lasso model removed the density feature and estimated with the global mean.  The lasso attempts to remove features as a function of the lambda level, in other words, the lasso performs feature selection! Let's investigate this model behavoir.\n",
    "\n",
    "#### Investigating the Lambda Hyperparameter\n",
    "\n",
    "Let's look at the multivariate dataset that we already loaded. This way we can observe the model behavoir over a range of features, for a range of lambda hyperparameter values.\n",
    "\n",
    "We will first remove the well index and preview the multivariate unconventional dataset."
   ]
  },
  {
   "cell_type": "code",
   "execution_count": 17,
   "metadata": {},
   "outputs": [
    {
     "data": {
      "text/html": [
       "<div>\n",
       "<style scoped>\n",
       "    .dataframe tbody tr th:only-of-type {\n",
       "        vertical-align: middle;\n",
       "    }\n",
       "\n",
       "    .dataframe tbody tr th {\n",
       "        vertical-align: top;\n",
       "    }\n",
       "\n",
       "    .dataframe thead th {\n",
       "        text-align: right;\n",
       "    }\n",
       "</style>\n",
       "<table border=\"1\" class=\"dataframe\">\n",
       "  <thead>\n",
       "    <tr style=\"text-align: right;\">\n",
       "      <th></th>\n",
       "      <th>Por</th>\n",
       "      <th>LogPerm</th>\n",
       "      <th>AI</th>\n",
       "      <th>Brittle</th>\n",
       "      <th>TOC</th>\n",
       "      <th>VR</th>\n",
       "      <th>Production</th>\n",
       "    </tr>\n",
       "  </thead>\n",
       "  <tbody>\n",
       "    <tr>\n",
       "      <th>0</th>\n",
       "      <td>15.91</td>\n",
       "      <td>1.67</td>\n",
       "      <td>3.06</td>\n",
       "      <td>14.05</td>\n",
       "      <td>1.36</td>\n",
       "      <td>1.85</td>\n",
       "      <td>177.381958</td>\n",
       "    </tr>\n",
       "    <tr>\n",
       "      <th>1</th>\n",
       "      <td>15.34</td>\n",
       "      <td>1.65</td>\n",
       "      <td>2.60</td>\n",
       "      <td>31.88</td>\n",
       "      <td>1.37</td>\n",
       "      <td>1.79</td>\n",
       "      <td>1479.767778</td>\n",
       "    </tr>\n",
       "    <tr>\n",
       "      <th>2</th>\n",
       "      <td>20.45</td>\n",
       "      <td>2.02</td>\n",
       "      <td>3.13</td>\n",
       "      <td>63.67</td>\n",
       "      <td>1.79</td>\n",
       "      <td>2.53</td>\n",
       "      <td>4421.221583</td>\n",
       "    </tr>\n",
       "    <tr>\n",
       "      <th>3</th>\n",
       "      <td>11.95</td>\n",
       "      <td>1.14</td>\n",
       "      <td>3.90</td>\n",
       "      <td>58.81</td>\n",
       "      <td>0.40</td>\n",
       "      <td>2.03</td>\n",
       "      <td>1488.317629</td>\n",
       "    </tr>\n",
       "    <tr>\n",
       "      <th>4</th>\n",
       "      <td>19.53</td>\n",
       "      <td>1.83</td>\n",
       "      <td>2.57</td>\n",
       "      <td>43.75</td>\n",
       "      <td>1.40</td>\n",
       "      <td>2.11</td>\n",
       "      <td>5261.094919</td>\n",
       "    </tr>\n",
       "  </tbody>\n",
       "</table>\n",
       "</div>"
      ],
      "text/plain": [
       "     Por  LogPerm    AI  Brittle   TOC    VR   Production\n",
       "0  15.91     1.67  3.06    14.05  1.36  1.85   177.381958\n",
       "1  15.34     1.65  2.60    31.88  1.37  1.79  1479.767778\n",
       "2  20.45     2.02  3.13    63.67  1.79  2.53  4421.221583\n",
       "3  11.95     1.14  3.90    58.81  0.40  2.03  1488.317629\n",
       "4  19.53     1.83  2.57    43.75  1.40  2.11  5261.094919"
      ]
     },
     "execution_count": 17,
     "metadata": {},
     "output_type": "execute_result"
    }
   ],
   "source": [
    "df_mv = df_mv.drop('WellIndex',axis = 1)                    # remove the well index feature\n",
    "df_mv.head()                                                # load the comma delimited data file"
   ]
  },
  {
   "cell_type": "markdown",
   "metadata": {},
   "source": [
    "Let's calculate the summary statistics for our data."
   ]
  },
  {
   "cell_type": "code",
   "execution_count": 18,
   "metadata": {},
   "outputs": [
    {
     "data": {
      "text/html": [
       "<div>\n",
       "<style scoped>\n",
       "    .dataframe tbody tr th:only-of-type {\n",
       "        vertical-align: middle;\n",
       "    }\n",
       "\n",
       "    .dataframe tbody tr th {\n",
       "        vertical-align: top;\n",
       "    }\n",
       "\n",
       "    .dataframe thead th {\n",
       "        text-align: right;\n",
       "    }\n",
       "</style>\n",
       "<table border=\"1\" class=\"dataframe\">\n",
       "  <thead>\n",
       "    <tr style=\"text-align: right;\">\n",
       "      <th></th>\n",
       "      <th>count</th>\n",
       "      <th>mean</th>\n",
       "      <th>std</th>\n",
       "      <th>min</th>\n",
       "      <th>25%</th>\n",
       "      <th>50%</th>\n",
       "      <th>75%</th>\n",
       "      <th>max</th>\n",
       "    </tr>\n",
       "  </thead>\n",
       "  <tbody>\n",
       "    <tr>\n",
       "      <th>Por</th>\n",
       "      <td>1000.0</td>\n",
       "      <td>14.950460</td>\n",
       "      <td>3.029634</td>\n",
       "      <td>5.400000</td>\n",
       "      <td>12.85750</td>\n",
       "      <td>14.98500</td>\n",
       "      <td>17.080000</td>\n",
       "      <td>24.65000</td>\n",
       "    </tr>\n",
       "    <tr>\n",
       "      <th>LogPerm</th>\n",
       "      <td>1000.0</td>\n",
       "      <td>1.398880</td>\n",
       "      <td>0.405966</td>\n",
       "      <td>0.120000</td>\n",
       "      <td>1.13000</td>\n",
       "      <td>1.39000</td>\n",
       "      <td>1.680000</td>\n",
       "      <td>2.58000</td>\n",
       "    </tr>\n",
       "    <tr>\n",
       "      <th>AI</th>\n",
       "      <td>1000.0</td>\n",
       "      <td>2.982610</td>\n",
       "      <td>0.577629</td>\n",
       "      <td>0.960000</td>\n",
       "      <td>2.57750</td>\n",
       "      <td>3.01000</td>\n",
       "      <td>3.360000</td>\n",
       "      <td>4.70000</td>\n",
       "    </tr>\n",
       "    <tr>\n",
       "      <th>Brittle</th>\n",
       "      <td>1000.0</td>\n",
       "      <td>49.719480</td>\n",
       "      <td>15.077006</td>\n",
       "      <td>-10.500000</td>\n",
       "      <td>39.72250</td>\n",
       "      <td>49.68000</td>\n",
       "      <td>59.170000</td>\n",
       "      <td>93.47000</td>\n",
       "    </tr>\n",
       "    <tr>\n",
       "      <th>TOC</th>\n",
       "      <td>1000.0</td>\n",
       "      <td>1.003810</td>\n",
       "      <td>0.504978</td>\n",
       "      <td>-0.260000</td>\n",
       "      <td>0.64000</td>\n",
       "      <td>0.99500</td>\n",
       "      <td>1.360000</td>\n",
       "      <td>2.71000</td>\n",
       "    </tr>\n",
       "    <tr>\n",
       "      <th>VR</th>\n",
       "      <td>1000.0</td>\n",
       "      <td>1.991170</td>\n",
       "      <td>0.308194</td>\n",
       "      <td>0.900000</td>\n",
       "      <td>1.81000</td>\n",
       "      <td>2.00000</td>\n",
       "      <td>2.172500</td>\n",
       "      <td>2.90000</td>\n",
       "    </tr>\n",
       "    <tr>\n",
       "      <th>Production</th>\n",
       "      <td>1000.0</td>\n",
       "      <td>2247.295809</td>\n",
       "      <td>1464.256312</td>\n",
       "      <td>2.713535</td>\n",
       "      <td>1191.36956</td>\n",
       "      <td>1976.48782</td>\n",
       "      <td>3023.594214</td>\n",
       "      <td>12568.64413</td>\n",
       "    </tr>\n",
       "  </tbody>\n",
       "</table>\n",
       "</div>"
      ],
      "text/plain": [
       "             count         mean          std        min         25%  \\\n",
       "Por         1000.0    14.950460     3.029634   5.400000    12.85750   \n",
       "LogPerm     1000.0     1.398880     0.405966   0.120000     1.13000   \n",
       "AI          1000.0     2.982610     0.577629   0.960000     2.57750   \n",
       "Brittle     1000.0    49.719480    15.077006 -10.500000    39.72250   \n",
       "TOC         1000.0     1.003810     0.504978  -0.260000     0.64000   \n",
       "VR          1000.0     1.991170     0.308194   0.900000     1.81000   \n",
       "Production  1000.0  2247.295809  1464.256312   2.713535  1191.36956   \n",
       "\n",
       "                   50%          75%          max  \n",
       "Por           14.98500    17.080000     24.65000  \n",
       "LogPerm        1.39000     1.680000      2.58000  \n",
       "AI             3.01000     3.360000      4.70000  \n",
       "Brittle       49.68000    59.170000     93.47000  \n",
       "TOC            0.99500     1.360000      2.71000  \n",
       "VR             2.00000     2.172500      2.90000  \n",
       "Production  1976.48782  3023.594214  12568.64413  "
      ]
     },
     "execution_count": 18,
     "metadata": {},
     "output_type": "execute_result"
    }
   ],
   "source": [
    "df_mv.describe().transpose()"
   ]
  },
  {
   "cell_type": "markdown",
   "metadata": {},
   "source": [
    "Let's standardize the feature to have:\n",
    "\n",
    "* mean = 0.0\n",
    "* variance = standard deviation = 1.0\n",
    "\n",
    "To do this we:\n",
    "\n",
    "1. instantiate the StandardScaler from scikit learn. We assign it as 'scaler' so we can use it to conveniently reverse the transformation if we like. We will need to do that to get our predictions back into regular production units.\n",
    "\n",
    "```python\n",
    "scaler = StandardScaler()\n",
    "```\n",
    "\n",
    "2. we then extract all the values from our DataFrame and apply the by-column standardization.  The result is a 2D ndarray\n",
    "\n",
    "```python\n",
    "sfeatures = scaler.fit_transform(df_mv.values)\n",
    "```\n",
    "3. we make an new empty DataFrame\n",
    "\n",
    "```python\n",
    "df_nmv = pd.DataFrame()\n",
    "```\n",
    "\n",
    "4. then we add the transformed value to the new DataFrame while keeping the sample index and feature names from the old DataFramae\n",
    "\n",
    "```python\n",
    "df_nmv = pd.DataFrame(sfeatures, index=df_mv.index, columns=df_mv.columns)\n",
    "```\n"
   ]
  },
  {
   "cell_type": "code",
   "execution_count": 19,
   "metadata": {
    "scrolled": true
   },
   "outputs": [
    {
     "data": {
      "text/html": [
       "<div>\n",
       "<style scoped>\n",
       "    .dataframe tbody tr th:only-of-type {\n",
       "        vertical-align: middle;\n",
       "    }\n",
       "\n",
       "    .dataframe tbody tr th {\n",
       "        vertical-align: top;\n",
       "    }\n",
       "\n",
       "    .dataframe thead th {\n",
       "        text-align: right;\n",
       "    }\n",
       "</style>\n",
       "<table border=\"1\" class=\"dataframe\">\n",
       "  <thead>\n",
       "    <tr style=\"text-align: right;\">\n",
       "      <th></th>\n",
       "      <th>Por</th>\n",
       "      <th>LogPerm</th>\n",
       "      <th>AI</th>\n",
       "      <th>Brittle</th>\n",
       "      <th>TOC</th>\n",
       "      <th>VR</th>\n",
       "      <th>Production</th>\n",
       "    </tr>\n",
       "  </thead>\n",
       "  <tbody>\n",
       "    <tr>\n",
       "      <th>0</th>\n",
       "      <td>0.316877</td>\n",
       "      <td>0.668174</td>\n",
       "      <td>0.134046</td>\n",
       "      <td>-2.367004</td>\n",
       "      <td>0.705711</td>\n",
       "      <td>-0.458285</td>\n",
       "      <td>-1.414335</td>\n",
       "    </tr>\n",
       "    <tr>\n",
       "      <th>1</th>\n",
       "      <td>0.128641</td>\n",
       "      <td>0.618884</td>\n",
       "      <td>-0.662712</td>\n",
       "      <td>-1.183816</td>\n",
       "      <td>0.725523</td>\n",
       "      <td>-0.653065</td>\n",
       "      <td>-0.524438</td>\n",
       "    </tr>\n",
       "    <tr>\n",
       "      <th>2</th>\n",
       "      <td>1.816157</td>\n",
       "      <td>1.530747</td>\n",
       "      <td>0.255292</td>\n",
       "      <td>0.925747</td>\n",
       "      <td>1.557659</td>\n",
       "      <td>1.749222</td>\n",
       "      <td>1.485405</td>\n",
       "    </tr>\n",
       "    <tr>\n",
       "      <th>3</th>\n",
       "      <td>-0.990866</td>\n",
       "      <td>-0.638008</td>\n",
       "      <td>1.588995</td>\n",
       "      <td>0.603241</td>\n",
       "      <td>-1.196314</td>\n",
       "      <td>0.126055</td>\n",
       "      <td>-0.518596</td>\n",
       "    </tr>\n",
       "    <tr>\n",
       "      <th>4</th>\n",
       "      <td>1.512338</td>\n",
       "      <td>1.062493</td>\n",
       "      <td>-0.714674</td>\n",
       "      <td>-0.396131</td>\n",
       "      <td>0.784962</td>\n",
       "      <td>0.385762</td>\n",
       "      <td>2.059275</td>\n",
       "    </tr>\n",
       "  </tbody>\n",
       "</table>\n",
       "</div>"
      ],
      "text/plain": [
       "        Por   LogPerm        AI   Brittle       TOC        VR  Production\n",
       "0  0.316877  0.668174  0.134046 -2.367004  0.705711 -0.458285   -1.414335\n",
       "1  0.128641  0.618884 -0.662712 -1.183816  0.725523 -0.653065   -0.524438\n",
       "2  1.816157  1.530747  0.255292  0.925747  1.557659  1.749222    1.485405\n",
       "3 -0.990866 -0.638008  1.588995  0.603241 -1.196314  0.126055   -0.518596\n",
       "4  1.512338  1.062493 -0.714674 -0.396131  0.784962  0.385762    2.059275"
      ]
     },
     "execution_count": 19,
     "metadata": {},
     "output_type": "execute_result"
    }
   ],
   "source": [
    "scaler = StandardScaler()                                   # instantiate the scaler \n",
    "sfeatures = scaler.fit_transform(df_mv.values)              # standardize all the values extracted from the DataFrame \n",
    "df_nmv = pd.DataFrame()                                     # instantiate a new DataFrame\n",
    "df_nmv = pd.DataFrame(sfeatures, index=df_mv.index, columns=df_mv.columns) # copy the standardized values into the new DataFrame\n",
    "df_nmv.head()                                               # preview the the new DataFrame"
   ]
  },
  {
   "cell_type": "markdown",
   "metadata": {},
   "source": [
    "Let's check the summary statistics."
   ]
  },
  {
   "cell_type": "code",
   "execution_count": 20,
   "metadata": {},
   "outputs": [
    {
     "data": {
      "text/html": [
       "<div>\n",
       "<style scoped>\n",
       "    .dataframe tbody tr th:only-of-type {\n",
       "        vertical-align: middle;\n",
       "    }\n",
       "\n",
       "    .dataframe tbody tr th {\n",
       "        vertical-align: top;\n",
       "    }\n",
       "\n",
       "    .dataframe thead th {\n",
       "        text-align: right;\n",
       "    }\n",
       "</style>\n",
       "<table border=\"1\" class=\"dataframe\">\n",
       "  <thead>\n",
       "    <tr style=\"text-align: right;\">\n",
       "      <th></th>\n",
       "      <th>count</th>\n",
       "      <th>mean</th>\n",
       "      <th>std</th>\n",
       "      <th>min</th>\n",
       "      <th>25%</th>\n",
       "      <th>50%</th>\n",
       "      <th>75%</th>\n",
       "      <th>max</th>\n",
       "    </tr>\n",
       "  </thead>\n",
       "  <tbody>\n",
       "    <tr>\n",
       "      <th>Por</th>\n",
       "      <td>1000.0</td>\n",
       "      <td>1.186273e-16</td>\n",
       "      <td>1.0005</td>\n",
       "      <td>-3.153925</td>\n",
       "      <td>-0.691175</td>\n",
       "      <td>0.011406</td>\n",
       "      <td>0.703255</td>\n",
       "      <td>3.203157</td>\n",
       "    </tr>\n",
       "    <tr>\n",
       "      <th>LogPerm</th>\n",
       "      <td>1000.0</td>\n",
       "      <td>-2.957079e-16</td>\n",
       "      <td>1.0005</td>\n",
       "      <td>-3.151793</td>\n",
       "      <td>-0.662653</td>\n",
       "      <td>-0.021885</td>\n",
       "      <td>0.692819</td>\n",
       "      <td>2.910864</td>\n",
       "    </tr>\n",
       "    <tr>\n",
       "      <th>AI</th>\n",
       "      <td>1000.0</td>\n",
       "      <td>4.085621e-16</td>\n",
       "      <td>1.0005</td>\n",
       "      <td>-3.503327</td>\n",
       "      <td>-0.701684</td>\n",
       "      <td>0.047442</td>\n",
       "      <td>0.653670</td>\n",
       "      <td>2.974660</td>\n",
       "    </tr>\n",
       "    <tr>\n",
       "      <th>Brittle</th>\n",
       "      <td>1000.0</td>\n",
       "      <td>1.703082e-16</td>\n",
       "      <td>1.0005</td>\n",
       "      <td>-3.996126</td>\n",
       "      <td>-0.663393</td>\n",
       "      <td>-0.002620</td>\n",
       "      <td>0.627130</td>\n",
       "      <td>2.903256</td>\n",
       "    </tr>\n",
       "    <tr>\n",
       "      <th>TOC</th>\n",
       "      <td>1000.0</td>\n",
       "      <td>2.389755e-16</td>\n",
       "      <td>1.0005</td>\n",
       "      <td>-2.503956</td>\n",
       "      <td>-0.720808</td>\n",
       "      <td>-0.017455</td>\n",
       "      <td>0.705711</td>\n",
       "      <td>3.380433</td>\n",
       "    </tr>\n",
       "    <tr>\n",
       "      <th>VR</th>\n",
       "      <td>1000.0</td>\n",
       "      <td>-3.831380e-16</td>\n",
       "      <td>1.0005</td>\n",
       "      <td>-3.542302</td>\n",
       "      <td>-0.588138</td>\n",
       "      <td>0.028665</td>\n",
       "      <td>0.588658</td>\n",
       "      <td>2.950365</td>\n",
       "    </tr>\n",
       "    <tr>\n",
       "      <th>Production</th>\n",
       "      <td>1000.0</td>\n",
       "      <td>-4.163336e-17</td>\n",
       "      <td>1.0005</td>\n",
       "      <td>-1.533683</td>\n",
       "      <td>-0.721496</td>\n",
       "      <td>-0.185038</td>\n",
       "      <td>0.530431</td>\n",
       "      <td>7.052394</td>\n",
       "    </tr>\n",
       "  </tbody>\n",
       "</table>\n",
       "</div>"
      ],
      "text/plain": [
       "             count          mean     std       min       25%       50%  \\\n",
       "Por         1000.0  1.186273e-16  1.0005 -3.153925 -0.691175  0.011406   \n",
       "LogPerm     1000.0 -2.957079e-16  1.0005 -3.151793 -0.662653 -0.021885   \n",
       "AI          1000.0  4.085621e-16  1.0005 -3.503327 -0.701684  0.047442   \n",
       "Brittle     1000.0  1.703082e-16  1.0005 -3.996126 -0.663393 -0.002620   \n",
       "TOC         1000.0  2.389755e-16  1.0005 -2.503956 -0.720808 -0.017455   \n",
       "VR          1000.0 -3.831380e-16  1.0005 -3.542302 -0.588138  0.028665   \n",
       "Production  1000.0 -4.163336e-17  1.0005 -1.533683 -0.721496 -0.185038   \n",
       "\n",
       "                 75%       max  \n",
       "Por         0.703255  3.203157  \n",
       "LogPerm     0.692819  2.910864  \n",
       "AI          0.653670  2.974660  \n",
       "Brittle     0.627130  2.903256  \n",
       "TOC         0.705711  3.380433  \n",
       "VR          0.588658  2.950365  \n",
       "Production  0.530431  7.052394  "
      ]
     },
     "execution_count": 20,
     "metadata": {},
     "output_type": "execute_result"
    }
   ],
   "source": [
    "df_nmv.describe().transpose()                               # summary statistics from the new DataFrame"
   ]
  },
  {
   "cell_type": "markdown",
   "metadata": {},
   "source": [
    "Success, we have all features standardized.  We are ready to build our model.  Let's extract training and testing datasets."
   ]
  },
  {
   "cell_type": "code",
   "execution_count": 21,
   "metadata": {},
   "outputs": [
    {
     "name": "stdout",
     "output_type": "stream",
     "text": [
      "Number of training data = 670 and number of testing data = 330\n"
     ]
    }
   ],
   "source": [
    "X_train, X_test, y_train, y_test = train_test_split(df_nmv.iloc[:,:6], pd.DataFrame({'Production':df_nmv['Production']}), test_size=0.33, random_state=73073)\n",
    "print('Number of training data = ' + str(len(X_train)) + ' and number of testing data = ' + str(len(X_test)))"
   ]
  },
  {
   "cell_type": "markdown",
   "metadata": {},
   "source": [
    "Now let's observe the model coefficients ($b_{\\alpha}, \\alpha = 1,\\ldots,m$) for a range of $\\lambda$ hyperparameter values."
   ]
  },
  {
   "cell_type": "code",
   "execution_count": 27,
   "metadata": {},
   "outputs": [
    {
     "data": {
      "image/png": "[encoded data removed]",
      "text/plain": [
       "<Figure size 432x288 with 1 Axes>"
      ]
     },
     "metadata": {},
     "output_type": "display_data"
    }
   ],
   "source": [
    "nbins = 1000                                                # number of bins to explore the hyperparameter \n",
    "df_nmv.describe().transpose()                               # summary statistics from the new DataFrame\n",
    "lams = np.linspace(0.001,1.0,nbins)                         # make a list of lambda values\n",
    "coefs = np.ndarray((nbins,6))\n",
    "\n",
    "index = 0\n",
    "for lam in lams:\n",
    "    lasso_reg = Lasso(alpha=lam)                            # instantiate the model\n",
    "    lasso_reg.fit(X_train, y_train)                         # fit model\n",
    "    coefs[index,:] = lasso_reg.coef_                        # retreive the coefficients\n",
    "    index = index + 1\n",
    "    \n",
    "color = ['black','blue','green','red','orange','grey']\n",
    "plt.subplot(111)                                            # plot the results\n",
    "for ifeature in range(0,6):\n",
    "    plt.semilogx(lams,coefs[:,ifeature], label = df_mv.columns[ifeature], c = color[ifeature], linewidth = 3.0)\n",
    "\n",
    "plt.title('Standardized Model Coefficients vs. Lambda Hyperparameter'); plt.xlabel('Lambda Hyperparameter'); plt.ylabel('Standardized Model Coefficients')\n",
    "plt.xlim(0.001,1); plt.ylim(-1.0,1.0); plt.grid(); plt.legend(loc = 'lower right')\n",
    "\n",
    "plt.subplots_adjust(left=0.0, bottom=0.0, right=1.5, top=1., wspace=0.2, hspace=0.2)\n",
    "plt.show()"
   ]
  },
  {
   "cell_type": "markdown",
   "metadata": {},
   "source": [
    "What do we see?\n",
    "\n",
    "* for a very low lambda value, all features are included \n",
    "\n",
    "* as we increase the lambda hyperparameter, total organic carbon is the first predictor feature to be removed\n",
    "\n",
    "* then acoustic impedance, vitrinite reflectance, brittleness, log perm and finally porosity.\n",
    "\n",
    "* at $\\lambda \\ge 0.8$ all features are removed.\n",
    "\n",
    "Let's repeat this workflow with ridge regression for contrast."
   ]
  },
  {
   "cell_type": "code",
   "execution_count": 28,
   "metadata": {},
   "outputs": [
    {
     "data": {
      "image/png": "[encoded data removed]",
      "text/plain": [
       "<Figure size 432x288 with 1 Axes>"
      ]
     },
     "metadata": {},
     "output_type": "display_data"
    }
   ],
   "source": [
    "nbins = 5000                                                # number of bins to explore the hyperparameter \n",
    "lams = np.logspace(-10,7,nbins)       \n",
    "ridge_coefs = np.ndarray((nbins,6))\n",
    "\n",
    "index = 0\n",
    "for lam in lams:\n",
    "    ridge_reg = Ridge(alpha=lam)\n",
    "    ridge_reg.fit(X_train, y_train) # fit model\n",
    "    ridge_coefs[index,:] = ridge_reg.coef_\n",
    "    index = index + 1\n",
    "    \n",
    "color = ['black','blue','green','red','orange','grey']\n",
    "plt.subplot(111)\n",
    "for ifeature in range(0,6):\n",
    "    plt.semilogx(lams,ridge_coefs[:,ifeature], label = df_mv.columns[ifeature], c = color[ifeature], linewidth = 3.0)\n",
    "\n",
    "plt.title('Standardized Model Coefficients vs. Lambda Hyperparameter'); plt.xlabel('Lambda Hyperparameter'); plt.ylabel('Standardized Model Coefficients')\n",
    "plt.xlim(1.0e-10,1.0e7); plt.ylim(-1.0,1.0); plt.grid(); plt.legend(loc = 'lower right')\n",
    "\n",
    "plt.subplots_adjust(left=0.0, bottom=0.0, right=1.5, top=1., wspace=0.2, hspace=0.2)\n",
    "plt.show()"
   ]
  },
  {
   "cell_type": "markdown",
   "metadata": {},
   "source": [
    "Ridge regression is quite different in the response of predictor feature to change in the lambda hyperparameter.\n",
    "\n",
    "* there is no selective removal of predictor features as the lambda hyperparameter increases\n",
    "\n",
    "* a major component is uniform shrinkage of all coefficients towards zero for $\\lambda \\in [10^1, 10^5]$\n",
    "\n",
    "Let's check the mode performance for both models over the hyperparameters. We check the mean squared error and the variance explained for:\n",
    "\n",
    "* linear regression\n",
    "\n",
    "* ridge regression \n",
    "\n",
    "* the lasso"
   ]
  },
  {
   "cell_type": "code",
   "execution_count": 24,
   "metadata": {},
   "outputs": [
    {
     "data": {
      "image/png": "[encoded data removed]",
      "text/plain": [
       "<Figure size 432x288 with 2 Axes>"
      ]
     },
     "metadata": {},
     "output_type": "display_data"
    }
   ],
   "source": [
    "nbins = 1000                                               # number of bins\n",
    "lams = np.logspace(-14,6,nbins)                           # assign equal bins in log space\n",
    "ridge_error = []; lasso_error = []; linear_error = []\n",
    "ridge_r2 = []; lasso_r2 = []; linear_r2 = []\n",
    "\n",
    "linear_reg = LinearRegression()\n",
    "linear_reg.fit(X_train, y_train) # fit model\n",
    "linear_predict = linear_reg.predict(X_test)\n",
    "linear_err = metrics.mean_squared_error(y_test[\"Production\"],linear_predict)\n",
    "linear_r = metrics.r2_score(y_test[\"Production\"],linear_predict)\n",
    "\n",
    "index = 0\n",
    "for lam in lams:\n",
    "    ridge_reg = Ridge(alpha=lam)\n",
    "    ridge_reg.fit(X_train, y_train) # fit model\n",
    "    ridge_predict = ridge_reg.predict(X_test)\n",
    "    ridge_error.append(metrics.mean_squared_error(y_test[\"Production\"],ridge_predict))\n",
    "    ridge_r2.append(metrics.r2_score(y_test[\"Production\"],ridge_predict))\n",
    "    lasso_reg = Lasso(alpha=lam)\n",
    "    lasso_reg.fit(X_train, y_train) # fit model\n",
    "    lasso_predict = lasso_reg.predict(X_test)\n",
    "    lasso_error.append(metrics.mean_squared_error(y_test[\"Production\"],lasso_predict))\n",
    "    lasso_r2.append(metrics.r2_score(y_test[\"Production\"],lasso_predict))\n",
    "    linear_error.append(linear_err)\n",
    "    linear_r2.append(linear_r)\n",
    "    index = index + 1\n",
    "    \n",
    "color = ['black','blue','green','red','orange','grey']\n",
    "\n",
    "plt.subplot(121)\n",
    "plt.semilogx(lams,linear_error, label = 'Linear Regression', c = 'black', linewidth = 3.0)\n",
    "plt.semilogx(lams,ridge_error, label = 'Ridge Regression', c = 'blue', linewidth = 3.0)\n",
    "plt.semilogx(lams,lasso_error, label = 'the Lasso', c = 'red', linewidth = 3.0)\n",
    "plt.title('Testing MSE vs. Lambda Hyperparameter'); plt.xlabel('Lambda Hyperparameter'); plt.ylabel('Mean Square Error')\n",
    "plt.xlim(1.0e-14,1.0e6); plt.ylim(0.0,1.0); plt.grid(); plt.legend(loc = 'lower right')\n",
    "\n",
    "plt.subplot(122)\n",
    "plt.semilogx(lams,linear_r2, label = 'Linear Regression', c = 'black', linewidth = 3.0)\n",
    "plt.semilogx(lams,ridge_r2, label = 'Ridge Regression', c = 'blue', linewidth = 3.0)\n",
    "plt.semilogx(lams,lasso_r2, label = 'the Lasso', c = 'red', linewidth = 3.0)\n",
    "plt.title('Testing Variance Explained vs. Lambda Hyperparameter'); plt.xlabel('Lambda Hyperparameter'); plt.ylabel('Variance Explained (R2)')\n",
    "plt.xlim(1.0e-14,1.0e6); plt.ylim(0.0,1.0); plt.grid(); plt.legend(loc = 'upper right')\n",
    "\n",
    "plt.subplots_adjust(left=0.0, bottom=0.0, right=2.0, top=1.5, wspace=0.2, hspace=0.2)\n",
    "plt.show()"
   ]
  },
  {
   "cell_type": "markdown",
   "metadata": {},
   "source": [
    "This is quite interesting. Let's make some observations.\n",
    "\n",
    "* linear regression does not have the shrinkage term, nor the lambda parameter so the performance is constant\n",
    "\n",
    "* for this problem linear regression is the best performer, lowest testing mean square error and higher testing variance explained\n",
    "\n",
    "* at a low lambda value, ridge regression and the lasso approach linear regression\n",
    "\n",
    "#### Making Predictions with Our Model\n",
    "\n",
    "Here's the method to make predictions with our model for a specific lambda hyperparameter.\n",
    "\n",
    "1. Instantiate and fit the model."
   ]
  },
  {
   "cell_type": "code",
   "execution_count": 25,
   "metadata": {},
   "outputs": [
    {
     "name": "stdout",
     "output_type": "stream",
     "text": [
      "[ 0.64745141  0.04203637 -0.          0.05811881  0.          0.00616774]\n"
     ]
    }
   ],
   "source": [
    "lam = 0.05\n",
    "lasso_reg = Lasso(alpha=lam)\n",
    "lasso_reg.fit(X_train, y_train)                        # fit model\n",
    "print(lasso_reg.coef_)"
   ]
  },
  {
   "cell_type": "markdown",
   "metadata": {},
   "source": [
    "2. Standardize the predictor features with our StandardScalar object."
   ]
  },
  {
   "cell_type": "code",
   "execution_count": 26,
   "metadata": {},
   "outputs": [],
   "source": [
    "por = 23.2; logperm = 1.2; AI = -0.4; Brittle = 45.2; TOC = 1.3; VR = 2.2; production = -9999.9\n",
    "pred_features = np.array([por, logperm, AI, Brittle, TOC, VR, production]).reshape(1, -1)\n",
    "spred_features = scaler.transform(pred_features)  "
   ]
  },
  {
   "cell_type": "markdown",
   "metadata": {},
   "source": [
    "3. Predict with the standardize predictor features."
   ]
  },
  {
   "cell_type": "code",
   "execution_count": null,
   "metadata": {},
   "outputs": [],
   "source": [
    "spred_features[0][6] = lasso_reg.predict(spred_features[0][:6].reshape(1, -1))"
   ]
  },
  {
   "cell_type": "code",
   "execution_count": null,
   "metadata": {},
   "outputs": [],
   "source": [
    "predict = scaler.inverse_transform(spred_features[0])\n",
    "predict"
   ]
  },
  {
   "cell_type": "markdown",
   "metadata": {},
   "source": [
    "2. Now we can use the predictor features in our model (we will remove the production dummy)."
   ]
  },
  {
   "cell_type": "code",
   "execution_count": null,
   "metadata": {},
   "outputs": [],
   "source": [
    "pred_features = np.array([por, logperm, AI, Brittle, TOC, VR, production]).reshape(1, -1)\n",
    "scaler.transform(pred_features)  "
   ]
  },
  {
   "cell_type": "code",
   "execution_count": null,
   "metadata": {},
   "outputs": [],
   "source": [
    "np.array([por, logperm, AI, Brittle, TOC, VR]).reshape(1, -1)"
   ]
  },
  {
   "cell_type": "code",
   "execution_count": null,
   "metadata": {},
   "outputs": [],
   "source": [
    "scaler"
   ]
  },
  {
   "cell_type": "code",
   "execution_count": null,
   "metadata": {},
   "outputs": [],
   "source": [
    "df_mv.describe().transpose()   "
   ]
  },
  {
   "cell_type": "code",
   "execution_count": null,
   "metadata": {},
   "outputs": [],
   "source": []
  },
  {
   "cell_type": "code",
   "execution_count": null,
   "metadata": {},
   "outputs": [],
   "source": [
    "# Arrays to store the results\n",
    "ncases = 100\n",
    "lamd_mat = np.linspace(0.0,100.0,ncases)\n",
    "density_model = np.linspace(1.2,2.4,10)\n",
    "var_explained_train = np.zeros(ncases); var_explained_test = np.zeros(ncases)\n",
    "mse_train = np.zeros(ncases); mse_test = np.zeros(ncases)\n",
    "\n",
    "for ilam in range(0,len(lamd_mat)):                         # Loop over all lambda values\n",
    "    ridge_reg = Ridge(alpha=lamd_mat[ilam])\n",
    "    ridge_reg.fit(df_train[\"Density\"].values.reshape(n_train,1), df_train[\"Porosity\"]) # fit model\n",
    "\n",
    "    porosity_model = ridge_reg.predict(density_model.reshape(10,1)) # predict with the fit model  \n",
    "    porosity_pred_train = ridge_reg.predict(df_train['Density'].values.reshape(n_train,1)) # predict with the fit model   \n",
    "    var_explained_train[ilam] = r2_score(df_train['Porosity'].values, porosity_pred_train)\n",
    "    mse_train[ilam] = mean_squared_error(df_train['Porosity'].values, porosity_pred_train) \n",
    "    \n",
    "    porosity_pred_test = ridge_reg.predict(df_test['Density'].values.reshape(n_test,1))\n",
    "    var_explained_test[ilam] = r2_score(df_test['Porosity'].values, porosity_pred_test)\n",
    "    mse_test[ilam] = mean_squared_error(df_test['Porosity'].values, porosity_pred_test)    \n",
    "   \n",
    "    if ilam <= 7:\n",
    "        plt.subplot(4,2,ilam+1)\n",
    "        plt.scatter(df_train[\"Density\"].values, df_train[\"Porosity\"],  color='black', s = 20, alpha = 0.3)\n",
    "        plt.plot(density_model,porosity_model, color='red', linewidth=1)\n",
    "        plt.title('Ridge Regression Porosity from Density with Training Data - Lambda = ' + str(round(lamd_mat[ilam],2))); plt.xlabel('Density (g/cm^3)'); plt.ylabel('Porosity (%)')\n",
    "        plt.xlim(1.,2.6); plt.ylim(5,24)\n",
    "\n",
    "plt.subplots_adjust(left=0.0, bottom=0.0, right=2.0, top=4.2, wspace=0.2, hspace=0.3)\n",
    "plt.show()"
   ]
  },
  {
   "cell_type": "markdown",
   "metadata": {},
   "source": [
    "We can observed from the first 8 cases above of ridge regression model fit that increase in the lambda hyper parameter decreases the slope of the linear fit.\n",
    "\n",
    "Let's plot the MSE and variance explained over training and testing datasets."
   ]
  },
  {
   "cell_type": "code",
   "execution_count": null,
   "metadata": {
    "scrolled": false
   },
   "outputs": [],
   "source": [
    "plt.subplot(121)\n",
    "plt.plot(lamd_mat, var_explained_train,  color='blue', linewidth = 2, label = 'Training')\n",
    "plt.plot(lamd_mat, var_explained_test,  color='red', linewidth = 2, label = 'Test')\n",
    "plt.title('Variance Explained vs. Lambda'); plt.xlabel('Lambda'); plt.ylabel('Variance Explained')\n",
    "plt.xlim(0.,100.); plt.ylim(0,1.0)\n",
    "plt.subplots_adjust(left=0.0, bottom=0.0, right=2.0, top=1.0, wspace=0.2, hspace=0.2)\n",
    "plt.legend()\n",
    "\n",
    "plt.subplot(122)\n",
    "plt.plot(lamd_mat, mse_train,  color='blue', linewidth = 2, label = 'Training')\n",
    "plt.plot(lamd_mat, mse_test,  color='red', linewidth = 2, label = 'Test')\n",
    "plt.title('MSE vs. Lambda'); plt.xlabel('Lambda'); plt.ylabel('Mean Square Error')\n",
    "plt.xlim(0.,100.); plt.ylim(0,10.0)\n",
    "plt.subplots_adjust(left=0.0, bottom=0.0, right=2.0, top=1.0, wspace=0.2, hspace=0.2)\n",
    "plt.legend()\n",
    "\n",
    "plt.subplots_adjust(left=0.0, bottom=0.0, right=2.0, top=1.2, wspace=0.2, hspace=0.3)\n",
    "plt.show()"
   ]
  },
  {
   "cell_type": "markdown",
   "metadata": {},
   "source": [
    "We observe that as we increase the lambda parameter the variance explained decreases and the mean square error increases.\n",
    "\n",
    "* this makes sense as the data has a consistent linear trend and as the slope 'shrinks' to zero the error increases and the variance explained decreases\n",
    "\n",
    "* there could be other cases where the reduced slope actually performs better in testing.  For example with sparce and noisy data. \n",
    "\n",
    "#### Model Variance \n",
    "\n",
    "Now let's explore the concept of model variance, an important part of machine learning accuracy in testing. \n",
    "\n",
    "* the sensitivity of the model to the specfic training data\n",
    "\n",
    "* as lambda increases the sensitivity to the training data, model variance decreases\n",
    "\n",
    "Let's demonstrate this with this workflow:\n",
    "\n",
    "* loop over multiple lambda values\n",
    "    * loop over multiple bootstrap samples of the data\n",
    "        * calculate the ridge regression fit (slope)\n",
    "    * calculate the variance of these bootstrap results\n"
   ]
  },
  {
   "cell_type": "code",
   "execution_count": null,
   "metadata": {},
   "outputs": [],
   "source": [
    "L = 200                                                     # the number of bootstrap realizations \n",
    "nsamples = 20                                               # the number of samples in each bootstrap realization\n",
    "nlambda = 100                                               # number of lambda values to evaluate\n",
    "\n",
    "coef_mat = np.zeros(L)                                      # declare arrays to store the results\n",
    "variance_coef = np.zeros(nlambda)\n",
    "\n",
    "lamd_mat = np.linspace(0.0,100.0,nlambda)\n",
    "df = pd.read_csv(\"Density_Por_data.csv\")                    \n",
    "for ilam in range(0,len(lamd_mat)):                         # loop over all lambda values                   \n",
    "    for l in range(0, L):                                   # loop over all bootstrap realizations\n",
    "        df_sample = df.sample(n = nsamples)                 # random sample (1 bootstrap)\n",
    "        ridge_reg = Ridge(alpha=lamd_mat[ilam])             # instatiate model\n",
    "        ridge_reg.fit(df_sample[\"Density\"].values.reshape(nsamples,1), df_sample[\"Porosity\"]) # fit model\n",
    "        coef_mat[l] = ridge_reg.coef_[0]                    # get the slope parameter\n",
    "    \n",
    "    variance_coef[ilam] = np.var(coef_mat)                  # calculate the variance of the slopes over the L bootstraps"
   ]
  },
  {
   "cell_type": "markdown",
   "metadata": {},
   "source": [
    "Now let's plot the result."
   ]
  },
  {
   "cell_type": "code",
   "execution_count": null,
   "metadata": {},
   "outputs": [],
   "source": [
    "plt.subplot(111)\n",
    "plt.plot(lamd_mat, variance_coef,  color='black', linewidth = 2, label = 'Slope Variance')\n",
    "plt.title('Model Fit Variance vs. Lambda'); plt.xlabel('Lambda'); plt.ylabel('Model Fit Variance')\n",
    "plt.xlim(0.,100.); plt.ylim(0.001,10.0); plt.yscale('log')\n",
    "plt.subplots_adjust(left=0.0, bottom=0.0, right=2.0, top=1.0, wspace=0.2, hspace=0.2)\n",
    "plt.legend()"
   ]
  },
  {
   "cell_type": "markdown",
   "metadata": {},
   "source": [
    "The result is as expected, with increase in lambda hyperparameter the sensitivity of the model to the training data is decreased.\n",
    "\n",
    "#### k-fold Cross Validation\n",
    "\n",
    "It would be useful to conduct a complete k-fold validation to evaluate the testing error vs. the hyperparameter lambda for model tuning.\n",
    "\n",
    "* the following code should do this \n",
    "\n",
    "* but with a single feature as input for fitting the fit function requires a reshape\n",
    "\n",
    "```python\n",
    "my_array.reshape((nsample,1))\n",
    "```\n",
    "\n",
    "* this is not included in the scikit learn function 'cross_val_score' so we will skip this for now\n",
    "\n",
    "I have left the code commented out below for reference:"
   ]
  },
  {
   "cell_type": "code",
   "execution_count": null,
   "metadata": {},
   "outputs": [],
   "source": [
    "#score = []                                                  # code modified from StackOverFlow by Dimosthenis\n",
    "#nlambda = 1\n",
    "#lambd_mat = np.linspace(0.0,100.0,nlambda)\n",
    "#for ilam in range(0,nlambda):\n",
    "#    ridge_reg = Ridge(alpha=lambd_mat[ilam])\n",
    "#    scores = cross_val_score(estimator=ridge_reg, X= df['Density'].values, y=df['Porosity'].values, cv=10, n_jobs=4, scoring = \"neg_mean_squared_error\") # Perform 10-fold cross validation\n",
    "#    score.append(abs(scores.mean()))"
   ]
  },
  {
   "cell_type": "markdown",
   "metadata": {},
   "source": [
    "#### Comments\n",
    "\n",
    "Ridge regression is a variant of linear regression that includes a hyperparameter to constrain the degree of model fit.  This allow us to tune the variance-bias trade-off of our model. I hope this was helpful,\n",
    "\n",
    "*Michael*\n",
    "\n",
    "Michael Pyrcz, Ph.D., P.Eng. Associate Professor The Hildebrand Department of Petroleum and Geosystems Engineering, Bureau of Economic Geology, The Jackson School of Geosciences, The University of Texas at Austin\n",
    "On twitter I'm the @GeostatsGuy.\n",
    "\n",
    "\n",
    "***\n",
    "\n",
    "#### More on Michael Pyrcz and the Texas Center for Geostatistics:\n",
    "\n",
    "### Michael Pyrcz, Associate Professor, University of Texas at Austin \n",
    "*Novel Data Analytics, Geostatistics and Machine Learning Subsurface Solutions*\n",
    "\n",
    "With over 17 years of experience in subsurface consulting, research and development, Michael has returned to academia driven by his passion for teaching and enthusiasm for enhancing engineers' and geoscientists' impact in subsurface resource development. \n",
    "\n",
    "For more about Michael check out these links:\n",
    "\n",
    "#### [Twitter](https://twitter.com/geostatsguy) | [GitHub](https://github.com/GeostatsGuy) | [Website](http://michaelpyrcz.com) | [GoogleScholar](https://scholar.google.com/citations?user=QVZ20eQAAAAJ&hl=en&oi=ao) | [Book](https://www.amazon.com/Geostatistical-Reservoir-Modeling-Michael-Pyrcz/dp/0199731446) | [YouTube](https://www.youtube.com/channel/UCLqEr-xV-ceHdXXXrTId5ig)  | [LinkedIn](https://www.linkedin.com/in/michael-pyrcz-61a648a1)\n",
    "\n",
    "#### Want to Work Together?\n",
    "\n",
    "I hope this content is helpful to those that want to learn more about subsurface modeling, data analytics and machine learning. Students and working professionals are welcome to participate.\n",
    "\n",
    "* Want to invite me to visit your company for training, mentoring, project review, workflow design and / or consulting? I'd be happy to drop by and work with you! \n",
    "\n",
    "* Interested in partnering, supporting my graduate student research or my Subsurface Data Analytics and Machine Learning consortium (co-PIs including Profs. Foster, Torres-Verdin and van Oort)? My research combines data analytics, stochastic modeling and machine learning theory with practice to develop novel methods and workflows to add value. We are solving challenging subsurface problems!\n",
    "\n",
    "* I can be reached at mpyrcz@austin.utexas.edu.\n",
    "\n",
    "I'm always happy to discuss,\n",
    "\n",
    "*Michael*\n",
    "\n",
    "Michael Pyrcz, Ph.D., P.Eng. Associate Professor The Hildebrand Department of Petroleum and Geosystems Engineering, Bureau of Economic Geology, The Jackson School of Geosciences, The University of Texas at Austin\n",
    "\n",
    "#### More Resources Available at: [Twitter](https://twitter.com/geostatsguy) | [GitHub](https://github.com/GeostatsGuy) | [Website](http://michaelpyrcz.com) | [GoogleScholar](https://scholar.google.com/citations?user=QVZ20eQAAAAJ&hl=en&oi=ao) | [Book](https://www.amazon.com/Geostatistical-Reservoir-Modeling-Michael-Pyrcz/dp/0199731446) | [YouTube](https://www.youtube.com/channel/UCLqEr-xV-ceHdXXXrTId5ig)  | [LinkedIn](https://www.linkedin.com/in/michael-pyrcz-61a648a1)\n"
   ]
  },
  {
   "cell_type": "code",
   "execution_count": null,
   "metadata": {},
   "outputs": [],
   "source": []
  }
 ],
 "metadata": {
  "kernelspec": {
   "display_name": "Python 3",
   "language": "python",
   "name": "python3"
  },
  "language_info": {
   "codemirror_mode": {
    "name": "ipython",
    "version": 3
   },
   "file_extension": ".py",
   "mimetype": "text/x-python",
   "name": "python",
   "nbconvert_exporter": "python",
   "pygments_lexer": "ipython3",
   "version": "3.6.5"
  }
 },
 "nbformat": 4,
 "nbformat_minor": 2
}
